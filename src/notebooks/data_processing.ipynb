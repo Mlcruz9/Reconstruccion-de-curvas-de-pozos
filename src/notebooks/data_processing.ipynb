{
 "cells": [
  {
   "cell_type": "markdown",
   "metadata": {},
   "source": [
    "# Procesamiento de datos"
   ]
  },
  {
   "cell_type": "code",
   "execution_count": 1,
   "metadata": {},
   "outputs": [],
   "source": [
    "import pandas as pd\n",
    "import numpy as np"
   ]
  },
  {
   "cell_type": "code",
   "execution_count": 14,
   "metadata": {},
   "outputs": [],
   "source": [
    "Well_1 = pd.read_csv(\"../data/processed/Well_1_clean.csv\", sep=\",\", index_col= 0)\n",
    "Well_3 = pd.read_csv(\"../data/processed/Well_3_clean.csv\", sep=\",\", index_col= 0)"
   ]
  },
  {
   "cell_type": "code",
   "execution_count": 19,
   "metadata": {},
   "outputs": [],
   "source": [
    "#Hacemos un drop a los NaNs del pozo Well_3, ya que son pocos al haber limpiado la data previamente \n",
    "Well_3 = Well_3.dropna()"
   ]
  },
  {
   "cell_type": "code",
   "execution_count": null,
   "metadata": {},
   "outputs": [],
   "source": [
    "#Creamos los \"flags\" positivos y negativos para NPHI\n",
    "\n",
    "#Well_1\n",
    "Well_1[\"positive_flag\"] = Well_1[Well_1[\"NPHI\"] > 0.30][\"NPHI\"]\n",
    "Well_1[\"negative_flag\"] = Well_1[Well_1[\"NPHI\"] < 0][\"NPHI\"]\n",
    "\n",
    "#Well_3\n",
    "Well_3[\"positive_flag\"] = Well_3[Well_3[\"NPHI\"] > 0.30][\"NPHI\"]\n",
    "Well_3[\"negative_flag\"] = Well_3[Well_3[\"NPHI\"] < 0][\"NPHI\"]"
   ]
  },
  {
   "cell_type": "code",
   "execution_count": null,
   "metadata": {},
   "outputs": [],
   "source": [
    "#Transformando RLLD a logarítmico\n",
    "\n",
    "Well_1[\"RLLD_log\"] = np.log(Well_1[\"RLLD\"])\n",
    "Well_3[\"RLLD_log\"] = np.log(Well_3[\"RLLD\"])"
   ]
  },
  {
   "cell_type": "markdown",
   "metadata": {},
   "source": [
    "### Preparando data de Well_3 para el modelo"
   ]
  },
  {
   "cell_type": "markdown",
   "metadata": {},
   "source": [
    "Aplicando máscaras trabajamos con un nuevo DataFrame para no dañar el anterior, el cual contiene los valores que no aparecen en el flag. Utilizaremos el Well_3 para generar el modelo luego del procesamiento, ya que posee mejores condiciones de hoyo"
   ]
  },
  {
   "cell_type": "code",
   "execution_count": 26,
   "metadata": {},
   "outputs": [],
   "source": [
    "mask1 = Well_3[Well_3[\"positive_flag\"].isna()] #Primera máscara\n",
    "Well_3_data = Well_3[Well_3[\"positive_flag\"].isna()]#Valores que no están en el flag\n",
    "Well_3_data = Well_3_data.drop(\"positive_flag\", axis=1)#Drop al flag para no tenerlo en el dataset que utilizaremos en el modelo\n",
    "\n",
    "mask2 = Well_3_data[Well_3_data[\"negative_flag\"].isna()]#Segunda máscara\n",
    "Well_3_data = mask2\n",
    "Well_3_data = Well_3_data.drop(\"negative_flag\", axis=1)\n",
    "\n",
    "Well_3_data = Well_3_data.set_index(\"DEPTH\")#Hacemos la profundidad índice, ya que no la utilizaremos para cálculo\n",
    "Well_3_data.replace([np.inf, -np.inf], np.nan, inplace=True)#Eliminamos valores infinitos, no aceptados por los modelos\n",
    "Well_3_data.dropna(inplace=True)#Eliminamos NaNs que pudieron surgir en previas transformaciones\n"
   ]
  },
  {
   "cell_type": "code",
   "execution_count": 27,
   "metadata": {},
   "outputs": [],
   "source": [
    "# Well_1.to_csv(\"../data/processed/processdata/Well_1_processed.csv\")\n",
    "# Well_3.to_csv(\"../data/processed/processdata/Well_3_processed.csv\")\n",
    "# Well_3_data.to_csv(\"../data/processed/Well_3_modeldata.csv\")"
   ]
  }
 ],
 "metadata": {
  "interpreter": {
   "hash": "0140da9284d3a0331c5dc8e3814dff517184f782fca30f79252c37873bf197cf"
  },
  "kernelspec": {
   "display_name": "Python 3.7.4 64-bit",
   "language": "python",
   "name": "python3"
  },
  "language_info": {
   "codemirror_mode": {
    "name": "ipython",
    "version": 3
   },
   "file_extension": ".py",
   "mimetype": "text/x-python",
   "name": "python",
   "nbconvert_exporter": "python",
   "pygments_lexer": "ipython3",
   "version": "3.7.4"
  },
  "orig_nbformat": 4
 },
 "nbformat": 4,
 "nbformat_minor": 2
}
