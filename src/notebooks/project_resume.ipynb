{
 "cells": [
  {
   "cell_type": "markdown",
   "metadata": {},
   "source": [
    "# Análisis de registros de pozos prospectivos de hidrocarburos y reconstruccion de curvas con Python/Sklearn.\n",
    "\n",
    "Por: Miguel La Cruz."
   ]
  },
  {
   "cell_type": "code",
   "execution_count": 1,
   "metadata": {},
   "outputs": [],
   "source": [
    "#Importamos librerías preliminares a utilizar\n",
    "import pandas as pd\n",
    "import numpy as np\n",
    "import matplotlib.pyplot as plt\n",
    "import warnings\n",
    "warnings.filterwarnings(\"ignore\")\n",
    "import seaborn as sns\n",
    "import functions"
   ]
  },
  {
   "cell_type": "code",
   "execution_count": 7,
   "metadata": {},
   "outputs": [],
   "source": [
    "#Importamos la data de los pozos\n",
    "Well_1 = pd.read_csv(\"../data/raw/Well_1_mincols.csv\", sep=\";\")\n",
    "Well_3 = pd.read_csv(\"../data/processed/Well_3_modeldata.csv\", sep=\";\")"
   ]
  },
  {
   "cell_type": "markdown",
   "metadata": {},
   "source": [
    "Como sabemos, el ***machine learning*** tiene un sin fin de aplicaciones y sirve para desarrollar soluciones óptimas a diversas diversas problemáticas.\n",
    "\n",
    "En el campo de la petrofísica tiene una utilidad considerable y cada día en aumento, aplicada al análisis de clusters para determinar facies sedimentarias, generación de curvas de pozos sintéticas, entre otros.\n",
    "\n",
    "En el presente análisis abordaremos la posibilidad de reparar curvas (registros) de baja calidad disponibles en un pozo, ya sea por la presencia de derrumbes u otros factores que pueden alterar la respuesta de dichos registros. Evaluaremos dos pozos (\"Well_1\", \"Well_3\")"
   ]
  },
  {
   "cell_type": "markdown",
   "metadata": {},
   "source": [
    "Los datos que utilizamos serán:\n",
    "\n",
    "* **DEPTH**: Profundidad en pies\n",
    "* **CAL**: Medida caliper en pulgadas\n",
    "* **NPHI**: Porosidad neutrón en fracciones\n",
    "* **DT**: Sónico en ms/pie\n",
    "* **GR**: Gamma ray en grados API\n",
    "* **RHOB**: Densidad en g/cm3\n",
    "* **RLLD**: Registro eléctrico profundo en ohm/mts\n",
    "* **RT**: Registro eléctrico en ohm/mts\n",
    "* **BS**: Tamaño de mecha en pulgadas\n",
    "\n",
    "**Colummnas a utilizar (Well_1)**\n",
    "\n",
    "<img src=\"img/excel_img_2.png\" alt=\"eximg_1\" width=\"700\"/>"
   ]
  },
  {
   "cell_type": "markdown",
   "metadata": {},
   "source": [
    "* #### **Primer paso: Convertir la data de \"object\" a \"float\"**\n",
    "\n",
    "La data es recibida en formato .las y al transformarla a .csv para trabajar de manera cómoda surgen cambios en el tipo de formato de las columnas, por lo tanto es necesario transformar las columnas a float para poder operar con ellas.\n",
    "\n",
    "<br>\n",
    "\n",
    "* #### **Segundo paso: Reparar errores por conversión de data**\n",
    "\n",
    "La data es recibida en formato .las y al transformarla a .csv para trabajar de manera cómoda surgen errores en la data, como valores exagerados (con \"0s\" de más), por lo tanto es necesario examinar estos errores y corregirlos.\n",
    "\n",
    "<br>\n",
    "\n",
    "* #### **Tercer paso: Visualización preliminar**\n",
    "\n",
    "Echamos un breve vistazo al estado de la data para determnar presencia de valores anómalos y nulos.\n",
    "\n",
    "<br>\n",
    "\n",
    "* #### **Cuarto paso: Eliminación de valores nulos**\n",
    "\n",
    "Hacemos una limpiza rápida de valores nulos, al no poseer demasiados.\n",
    "\n",
    "<br>\n",
    "\n",
    "* #### **Quinto paso: Visualización de las curvas en tracks**\n",
    "\n",
    "Una de las herramientas más utilizadas (o la más utilizada) es la visualización de curvas en tracks, por lo que procedemos a generarlos.\n",
    "\n",
    "<br>\n",
    "\n",
    "* #### **Sexto paso: Creación de flags**\n",
    "\n",
    "Creamos \"flags\" de datos por encima de 0.30 (porosidades demasiado altas) y debajo de 0 (nulos) para ver en que zona del pozo se encuentran y determinar cual es su causa, así como la posibilidad de eliminarlos (anomalías causadas por datos deteriorados).\n",
    "\n",
    "<br>\n",
    "\n",
    "* #### **Séptimo paso: Eliminación de valores anómalos**\n",
    "\n",
    "Al determinar la causa de los valores anómalos presentes procedemos a eliminarlos\n",
    "\n",
    "<br>\n",
    "\n",
    "* #### **Octavo paso: Prueba y selección de modelos**\n",
    "\n",
    "Varios modelos son probados y se selecciona el que mejor repare la curva de NPHI sin caer en overfitting. Se utiliza como métrica el \"MAE\" (Mean absolute error).\n",
    "\n",
    "<br>\n",
    "\n",
    "* #### **Noveno paso: Utilizamos el mejor modelo para predecir las curvas de NPHI de ambos pozos**\n",
    "\n",
    "Utilizamos el mejor modelo para predecir las curvas de NPHI de ambos pozos, habiendo determinado anteriormente que un modelo funcionaría para ambos pozos (pozos del mismo campo con distribución de datos y valores muy similares)\n",
    "\n",
    "<br>\n",
    "\n",
    "* #### **Décimo paso: Analizamos visualmente las reparaciones en las curvas**\n",
    "\n",
    "Analizamos visualmente las reparaciones en las curvas y que se necesitaría para mejorar la predicción.\n"
   ]
  }
 ],
 "metadata": {
  "interpreter": {
   "hash": "0140da9284d3a0331c5dc8e3814dff517184f782fca30f79252c37873bf197cf"
  },
  "kernelspec": {
   "display_name": "Python 3.7.4 64-bit",
   "language": "python",
   "name": "python3"
  },
  "language_info": {
   "codemirror_mode": {
    "name": "ipython",
    "version": 3
   },
   "file_extension": ".py",
   "mimetype": "text/x-python",
   "name": "python",
   "nbconvert_exporter": "python",
   "pygments_lexer": "ipython3",
   "version": "3.7.4"
  },
  "orig_nbformat": 4
 },
 "nbformat": 4,
 "nbformat_minor": 2
}
