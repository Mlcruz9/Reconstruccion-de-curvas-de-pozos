{
 "cells": [
  {
   "cell_type": "markdown",
   "metadata": {},
   "source": [
    "# Modelos ML"
   ]
  },
  {
   "cell_type": "code",
   "execution_count": 50,
   "metadata": {},
   "outputs": [],
   "source": [
    "#Importamos librerías preliminares a utilizar\n",
    "import pandas as pd\n",
    "import numpy as np\n",
    "import matplotlib.pyplot as plt\n",
    "import warnings\n",
    "warnings.filterwarnings(\"ignore\")\n",
    "import seaborn as sns\n",
    "from sklearn.metrics import SCORERS\n",
    "from sklearn import model_selection\n",
    "import functions"
   ]
  },
  {
   "cell_type": "code",
   "execution_count": 10,
   "metadata": {},
   "outputs": [],
   "source": [
    "#Importamos la data de los pozos\n",
    "Well_1 = pd.read_csv(\"../data/raw/Well_1_mincols.csv\", sep=\";\")\n",
    "Well_3 = pd.read_csv(\"../data/processed/Well_3_modeldata.csv\", sep=\",\")"
   ]
  },
  {
   "cell_type": "code",
   "execution_count": 38,
   "metadata": {},
   "outputs": [],
   "source": [
    "#Importamos módulos para generar el modelo\n",
    "from sklearn.model_selection import train_test_split\n",
    "from sklearn.preprocessing import StandardScaler\n",
    "from sklearn.linear_model import LinearRegression\n",
    "from sklearn.preprocessing import PolynomialFeatures\n",
    "from sklearn.ensemble import RandomForestRegressor\n",
    "import tensorflow as tf\n",
    "from tensorflow import keras\n",
    "from tensorflow.keras import layers"
   ]
  },
  {
   "cell_type": "code",
   "execution_count": 13,
   "metadata": {},
   "outputs": [],
   "source": [
    "#Train test split\n",
    "\n",
    "X = Well_3[[\"DT\",\"GR\",\"RHOB\", \"RLLD_log\"]]\n",
    "Y = Well_3[\"NPHI\"]\n",
    "\n",
    "X_train, X_test, Y_train, Y_test = train_test_split(X, Y, test_size=0.2, random_state=42)"
   ]
  },
  {
   "cell_type": "markdown",
   "metadata": {},
   "source": [
    "### Linear regression"
   ]
  },
  {
   "cell_type": "code",
   "execution_count": 14,
   "metadata": {},
   "outputs": [
    {
     "data": {
      "text/plain": [
       "Pipeline(steps=[('scaler', StandardScaler()),\n",
       "                ('regression', LinearRegression())])"
      ]
     },
     "execution_count": 14,
     "metadata": {},
     "output_type": "execute_result"
    }
   ],
   "source": [
    "#Modelo pipeline\n",
    "model_pipeline_lr = Pipeline(steps = [\n",
    "    (\"scaler\", StandardScaler()),\n",
    "    (\"regression\", LinearRegression())])\n",
    "\n",
    "\n",
    "model_pipeline_lr.fit(X_train, Y_train)"
   ]
  },
  {
   "cell_type": "code",
   "execution_count": 27,
   "metadata": {},
   "outputs": [
    {
     "name": "stdout",
     "output_type": "stream",
     "text": [
      "MAE:  0.035369379558913255\n",
      "[-0.03064893 -0.05027223 -0.03039857 -0.03296972 -0.02729581 -0.03614868\n",
      " -0.02953356 -0.04978242 -0.04560527 -0.03434099]\n",
      "Linear regression: -0.036700 (0.008189)\n"
     ]
    }
   ],
   "source": [
    "#Mean absolute error\n",
    "print(\"MAE: \", mean_absolute_error(Y_test,model_pipeline_lr.predict(X_test)))\n",
    "\n",
    "#Cross validation\n",
    "name=\"Linear regression\"\n",
    "kfold = model_selection.KFold(n_splits=10)\n",
    "cv_results = model_selection.cross_val_score(model_pipeline_lr, X, Y, cv=kfold, scoring=\"neg_mean_absolute_error\")\n",
    "\n",
    "mae = \"%s: %f (%f)\" % (name, cv_results.mean(), cv_results.std())\n",
    "print(cv_results)\n",
    "print(mae)"
   ]
  },
  {
   "cell_type": "markdown",
   "metadata": {},
   "source": [
    "### Polynomial linear regression"
   ]
  },
  {
   "cell_type": "code",
   "execution_count": 28,
   "metadata": {},
   "outputs": [
    {
     "data": {
      "text/plain": [
       "Pipeline(steps=[('scaler', StandardScaler()),\n",
       "                ('poly_transform', PolynomialFeatures()),\n",
       "                ('regression', LinearRegression())])"
      ]
     },
     "execution_count": 28,
     "metadata": {},
     "output_type": "execute_result"
    }
   ],
   "source": [
    "#Modelo pipeline\n",
    "model_pipeline_plr = Pipeline(steps = [\n",
    "    (\"scaler\", StandardScaler()),\n",
    "    (\"poly_transform\", PolynomialFeatures(degree = 2)),\n",
    "    (\"regression\", LinearRegression())])\n",
    "\n",
    "\n",
    "model_pipeline_plr.fit(X_train, Y_train)"
   ]
  },
  {
   "cell_type": "code",
   "execution_count": 30,
   "metadata": {},
   "outputs": [
    {
     "name": "stdout",
     "output_type": "stream",
     "text": [
      "MAE:  0.033146973879185686\n",
      "[-0.0331865  -0.05438578 -0.02993536 -0.03075455 -0.02728083 -0.03363702\n",
      " -0.02866684 -0.04385166 -0.04508385 -0.04306408]\n",
      "Polinomial linear regression: -0.036985 (0.008544)\n"
     ]
    }
   ],
   "source": [
    "#Mean absolute error\n",
    "print(\"MAE: \", mean_absolute_error(Y_test,model_pipeline_plr.predict(X_test)))\n",
    "\n",
    "#Cross validation\n",
    "name=\"Polinomial linear regression\"\n",
    "kfold = model_selection.KFold(n_splits=10)\n",
    "cv_results = model_selection.cross_val_score(model_pipeline_plr, X, Y, cv=kfold, scoring=\"neg_mean_absolute_error\")\n",
    "\n",
    "mae = \"%s: %f (%f)\" % (name, cv_results.mean(), cv_results.std())\n",
    "print(cv_results)\n",
    "print(mae)"
   ]
  },
  {
   "cell_type": "markdown",
   "metadata": {},
   "source": [
    "### Random forest regressor"
   ]
  },
  {
   "cell_type": "code",
   "execution_count": 35,
   "metadata": {},
   "outputs": [
    {
     "data": {
      "text/plain": [
       "Pipeline(steps=[('scaler', StandardScaler()),\n",
       "                ('regression',\n",
       "                 RandomForestRegressor(max_leaf_nodes=16, n_estimators=500,\n",
       "                                       oob_score=True, random_state=42))])"
      ]
     },
     "execution_count": 35,
     "metadata": {},
     "output_type": "execute_result"
    }
   ],
   "source": [
    "#Modelo pipeline\n",
    "model_pipeline_rfr = Pipeline(steps = [\n",
    "    (\"scaler\", StandardScaler()),\n",
    "    (\"regression\", RandomForestRegressor(n_estimators=500,\n",
    "                                 max_leaf_nodes=16,\n",
    "                                 random_state=42,\n",
    "                                 oob_score=True))])\n",
    "\n",
    "\n",
    "model_pipeline_rfr.fit(X_train, Y_train)"
   ]
  },
  {
   "cell_type": "code",
   "execution_count": 36,
   "metadata": {},
   "outputs": [
    {
     "name": "stdout",
     "output_type": "stream",
     "text": [
      "MAE:  0.03081837498855588\n",
      "[-0.03474281 -0.05312772 -0.03229911 -0.03176904 -0.02815428 -0.03339368\n",
      " -0.02959253 -0.04689164 -0.04241921 -0.03272791]\n",
      "Random forest regressor: -0.036512 (0.007771)\n"
     ]
    }
   ],
   "source": [
    "#Mean absolute error\n",
    "print(\"MAE: \", mean_absolute_error(Y_test,model_pipeline_rfr.predict(X_test)))\n",
    "\n",
    "#Cross validation\n",
    "name=\"Random forest regressor\"\n",
    "kfold = model_selection.KFold(n_splits=10)\n",
    "cv_results = model_selection.cross_val_score(model_pipeline_rfr, X, Y, cv=kfold, scoring=\"neg_mean_absolute_error\")\n",
    "\n",
    "mae = \"%s: %f (%f)\" % (name, cv_results.mean(), cv_results.std())\n",
    "print(cv_results)\n",
    "print(mae)"
   ]
  },
  {
   "cell_type": "markdown",
   "metadata": {},
   "source": [
    "### Neural networks"
   ]
  },
  {
   "cell_type": "code",
   "execution_count": 43,
   "metadata": {},
   "outputs": [],
   "source": [
    "model_nn = keras.models.Sequential()\n",
    "\n",
    "capas = [\n",
    "    keras.layers.Dense(units = 100, activation='relu'),\n",
    "    keras.layers.Dense(units = 100, activation='relu'),\n",
    "    keras.layers.Dense(1)\n",
    "]\n",
    "\n",
    "model_nn = keras.models.Sequential(capas)\n",
    "\n",
    "\n",
    "model_nn.compile(loss = \"mae\",\n",
    "             optimizer = \"adam\",\n",
    "             metrics = \"mae\")"
   ]
  },
  {
   "cell_type": "code",
   "execution_count": 44,
   "metadata": {},
   "outputs": [
    {
     "name": "stdout",
     "output_type": "stream",
     "text": [
      "Epoch 1/200\n",
      "129/129 [==============================] - 2s 6ms/step - loss: 0.7398 - mae: 0.7398 - val_loss: 0.6255 - val_mae: 0.6255\n",
      "Epoch 2/200\n",
      "129/129 [==============================] - 0s 4ms/step - loss: 0.3330 - mae: 0.3330 - val_loss: 0.3195 - val_mae: 0.3195\n",
      "Epoch 3/200\n",
      "129/129 [==============================] - 0s 4ms/step - loss: 0.2954 - mae: 0.2954 - val_loss: 0.2229 - val_mae: 0.2229\n",
      "Epoch 4/200\n",
      "129/129 [==============================] - 0s 3ms/step - loss: 0.2749 - mae: 0.2749 - val_loss: 0.1326 - val_mae: 0.1326\n",
      "Epoch 5/200\n",
      "129/129 [==============================] - 0s 3ms/step - loss: 0.2762 - mae: 0.2762 - val_loss: 0.3618 - val_mae: 0.3618\n",
      "Epoch 6/200\n",
      "129/129 [==============================] - 0s 4ms/step - loss: 0.2500 - mae: 0.2500 - val_loss: 0.3163 - val_mae: 0.3163\n",
      "Epoch 7/200\n",
      "129/129 [==============================] - 0s 4ms/step - loss: 0.2631 - mae: 0.2631 - val_loss: 0.8533 - val_mae: 0.8533\n",
      "Epoch 8/200\n",
      "129/129 [==============================] - 0s 4ms/step - loss: 0.2369 - mae: 0.2369 - val_loss: 0.1344 - val_mae: 0.1344\n",
      "Epoch 9/200\n",
      "129/129 [==============================] - 0s 4ms/step - loss: 0.2091 - mae: 0.2091 - val_loss: 0.4255 - val_mae: 0.4255\n",
      "Epoch 10/200\n",
      "129/129 [==============================] - 0s 4ms/step - loss: 0.2091 - mae: 0.2091 - val_loss: 0.1013 - val_mae: 0.1013\n",
      "Epoch 11/200\n",
      "129/129 [==============================] - 0s 3ms/step - loss: 0.1982 - mae: 0.1982 - val_loss: 0.2986 - val_mae: 0.2986\n",
      "Epoch 12/200\n",
      "129/129 [==============================] - 0s 4ms/step - loss: 0.2249 - mae: 0.2249 - val_loss: 0.2080 - val_mae: 0.2080\n",
      "Epoch 13/200\n",
      "129/129 [==============================] - 0s 3ms/step - loss: 0.1411 - mae: 0.1411 - val_loss: 0.2812 - val_mae: 0.2812\n",
      "Epoch 14/200\n",
      "129/129 [==============================] - 0s 4ms/step - loss: 0.1286 - mae: 0.1286 - val_loss: 0.1781 - val_mae: 0.1781\n",
      "Epoch 15/200\n",
      "129/129 [==============================] - 0s 3ms/step - loss: 0.1551 - mae: 0.1551 - val_loss: 0.0589 - val_mae: 0.0589\n",
      "Epoch 16/200\n",
      "129/129 [==============================] - 0s 4ms/step - loss: 0.1078 - mae: 0.1078 - val_loss: 0.0773 - val_mae: 0.0773\n",
      "Epoch 17/200\n",
      "129/129 [==============================] - 0s 3ms/step - loss: 0.1441 - mae: 0.1441 - val_loss: 0.4569 - val_mae: 0.4569\n",
      "Epoch 18/200\n",
      "129/129 [==============================] - 0s 4ms/step - loss: 0.2233 - mae: 0.2233 - val_loss: 0.5160 - val_mae: 0.5160\n",
      "Epoch 19/200\n",
      "129/129 [==============================] - 1s 4ms/step - loss: 0.1502 - mae: 0.1502 - val_loss: 0.0633 - val_mae: 0.0633\n",
      "Epoch 20/200\n",
      "129/129 [==============================] - 0s 4ms/step - loss: 0.2174 - mae: 0.2174 - val_loss: 0.3566 - val_mae: 0.3566\n",
      "Epoch 21/200\n",
      "129/129 [==============================] - 0s 3ms/step - loss: 0.1860 - mae: 0.1860 - val_loss: 0.0692 - val_mae: 0.0692\n",
      "Epoch 22/200\n",
      "129/129 [==============================] - 0s 3ms/step - loss: 0.1605 - mae: 0.1605 - val_loss: 0.1470 - val_mae: 0.1470\n",
      "Epoch 23/200\n",
      "129/129 [==============================] - 0s 3ms/step - loss: 0.1638 - mae: 0.1638 - val_loss: 0.0656 - val_mae: 0.0656\n",
      "Epoch 24/200\n",
      "129/129 [==============================] - 0s 3ms/step - loss: 0.1357 - mae: 0.1357 - val_loss: 0.2635 - val_mae: 0.2635\n",
      "Epoch 25/200\n",
      "129/129 [==============================] - 0s 3ms/step - loss: 0.1698 - mae: 0.1698 - val_loss: 0.0999 - val_mae: 0.0999\n",
      "Epoch 26/200\n",
      "129/129 [==============================] - 0s 3ms/step - loss: 0.2583 - mae: 0.2583 - val_loss: 0.3538 - val_mae: 0.3538\n",
      "Epoch 27/200\n",
      "129/129 [==============================] - 0s 3ms/step - loss: 0.1280 - mae: 0.1280 - val_loss: 0.0743 - val_mae: 0.0743\n",
      "Epoch 28/200\n",
      "129/129 [==============================] - 0s 3ms/step - loss: 0.1248 - mae: 0.1248 - val_loss: 0.0430 - val_mae: 0.0430\n",
      "Epoch 29/200\n",
      "129/129 [==============================] - 0s 3ms/step - loss: 0.1114 - mae: 0.1114 - val_loss: 0.0780 - val_mae: 0.0780\n",
      "Epoch 30/200\n",
      "129/129 [==============================] - 0s 4ms/step - loss: 0.1176 - mae: 0.1176 - val_loss: 0.0910 - val_mae: 0.0910\n",
      "Epoch 31/200\n",
      "129/129 [==============================] - 0s 4ms/step - loss: 0.1206 - mae: 0.1206 - val_loss: 0.2940 - val_mae: 0.2940\n",
      "Epoch 32/200\n",
      "129/129 [==============================] - 0s 3ms/step - loss: 0.1416 - mae: 0.1416 - val_loss: 0.1901 - val_mae: 0.1901\n",
      "Epoch 33/200\n",
      "129/129 [==============================] - 0s 3ms/step - loss: 0.1103 - mae: 0.1103 - val_loss: 0.3443 - val_mae: 0.3443\n",
      "Epoch 34/200\n",
      "129/129 [==============================] - 0s 3ms/step - loss: 0.1276 - mae: 0.1276 - val_loss: 0.0704 - val_mae: 0.0704\n",
      "Epoch 35/200\n",
      "129/129 [==============================] - 0s 3ms/step - loss: 0.0999 - mae: 0.0999 - val_loss: 0.1555 - val_mae: 0.1555\n",
      "Epoch 36/200\n",
      "129/129 [==============================] - 0s 3ms/step - loss: 0.0955 - mae: 0.0955 - val_loss: 0.1232 - val_mae: 0.1232\n",
      "Epoch 37/200\n",
      "129/129 [==============================] - 0s 3ms/step - loss: 0.1221 - mae: 0.1221 - val_loss: 0.2148 - val_mae: 0.2148\n",
      "Epoch 38/200\n",
      "129/129 [==============================] - 0s 3ms/step - loss: 0.1400 - mae: 0.1400 - val_loss: 0.0978 - val_mae: 0.0978\n",
      "Epoch 39/200\n",
      "129/129 [==============================] - 0s 3ms/step - loss: 0.1499 - mae: 0.1499 - val_loss: 0.0384 - val_mae: 0.0384\n",
      "Epoch 40/200\n",
      "129/129 [==============================] - 0s 3ms/step - loss: 0.0858 - mae: 0.0858 - val_loss: 0.0489 - val_mae: 0.0489\n",
      "Epoch 41/200\n",
      "129/129 [==============================] - 0s 4ms/step - loss: 0.1309 - mae: 0.1309 - val_loss: 0.1034 - val_mae: 0.1034\n",
      "Epoch 42/200\n",
      "129/129 [==============================] - 0s 3ms/step - loss: 0.1161 - mae: 0.1161 - val_loss: 0.4421 - val_mae: 0.4421\n",
      "Epoch 43/200\n",
      "129/129 [==============================] - 0s 3ms/step - loss: 0.1059 - mae: 0.1059 - val_loss: 0.0484 - val_mae: 0.0484\n",
      "Epoch 44/200\n",
      "129/129 [==============================] - 0s 3ms/step - loss: 0.1248 - mae: 0.1248 - val_loss: 0.0368 - val_mae: 0.0368\n",
      "Epoch 45/200\n",
      "129/129 [==============================] - 1s 4ms/step - loss: 0.0791 - mae: 0.0791 - val_loss: 0.0934 - val_mae: 0.0934\n",
      "Epoch 46/200\n",
      "129/129 [==============================] - 0s 4ms/step - loss: 0.0930 - mae: 0.0930 - val_loss: 0.0382 - val_mae: 0.0382\n",
      "Epoch 47/200\n",
      "129/129 [==============================] - 0s 3ms/step - loss: 0.0672 - mae: 0.0672 - val_loss: 0.0415 - val_mae: 0.0415\n",
      "Epoch 48/200\n",
      "129/129 [==============================] - 0s 3ms/step - loss: 0.1048 - mae: 0.1048 - val_loss: 0.0378 - val_mae: 0.0378\n",
      "Epoch 49/200\n",
      "129/129 [==============================] - 0s 3ms/step - loss: 0.0837 - mae: 0.0837 - val_loss: 0.0946 - val_mae: 0.0946\n",
      "Epoch 50/200\n",
      "129/129 [==============================] - 0s 3ms/step - loss: 0.0931 - mae: 0.0931 - val_loss: 0.0404 - val_mae: 0.0404\n",
      "Epoch 51/200\n",
      "129/129 [==============================] - 0s 3ms/step - loss: 0.0685 - mae: 0.0685 - val_loss: 0.1072 - val_mae: 0.1072\n",
      "Epoch 52/200\n",
      "129/129 [==============================] - 0s 4ms/step - loss: 0.0994 - mae: 0.0994 - val_loss: 0.0350 - val_mae: 0.0350\n",
      "Epoch 53/200\n",
      "129/129 [==============================] - 0s 4ms/step - loss: 0.0734 - mae: 0.0734 - val_loss: 0.0927 - val_mae: 0.0927\n",
      "Epoch 54/200\n",
      "129/129 [==============================] - 0s 3ms/step - loss: 0.0961 - mae: 0.0961 - val_loss: 0.1692 - val_mae: 0.1692\n",
      "Epoch 55/200\n",
      "129/129 [==============================] - 0s 3ms/step - loss: 0.0692 - mae: 0.0692 - val_loss: 0.0407 - val_mae: 0.0407\n",
      "Epoch 56/200\n",
      "129/129 [==============================] - 0s 3ms/step - loss: 0.0839 - mae: 0.0839 - val_loss: 0.1481 - val_mae: 0.1481\n",
      "Epoch 57/200\n",
      "129/129 [==============================] - 0s 3ms/step - loss: 0.0870 - mae: 0.0870 - val_loss: 0.0739 - val_mae: 0.0739\n",
      "Epoch 58/200\n",
      "129/129 [==============================] - 0s 3ms/step - loss: 0.0588 - mae: 0.0588 - val_loss: 0.0364 - val_mae: 0.0364\n",
      "Epoch 59/200\n",
      "129/129 [==============================] - 0s 3ms/step - loss: 0.0583 - mae: 0.0583 - val_loss: 0.1017 - val_mae: 0.1017\n",
      "Epoch 60/200\n",
      "129/129 [==============================] - 0s 3ms/step - loss: 0.0590 - mae: 0.0590 - val_loss: 0.1260 - val_mae: 0.1260\n",
      "Epoch 61/200\n",
      "129/129 [==============================] - 0s 3ms/step - loss: 0.0841 - mae: 0.0841 - val_loss: 0.0834 - val_mae: 0.0834\n",
      "Epoch 62/200\n",
      "129/129 [==============================] - 0s 3ms/step - loss: 0.0799 - mae: 0.0799 - val_loss: 0.0408 - val_mae: 0.0408\n",
      "Epoch 63/200\n",
      "129/129 [==============================] - 0s 3ms/step - loss: 0.0632 - mae: 0.0632 - val_loss: 0.0346 - val_mae: 0.0346\n",
      "Epoch 64/200\n",
      "129/129 [==============================] - 0s 3ms/step - loss: 0.0596 - mae: 0.0596 - val_loss: 0.0828 - val_mae: 0.0828\n",
      "Epoch 65/200\n",
      "129/129 [==============================] - 0s 3ms/step - loss: 0.0608 - mae: 0.0608 - val_loss: 0.0805 - val_mae: 0.0805\n",
      "Epoch 66/200\n",
      "129/129 [==============================] - 0s 4ms/step - loss: 0.1133 - mae: 0.1133 - val_loss: 0.1306 - val_mae: 0.1306\n",
      "Epoch 67/200\n",
      "129/129 [==============================] - 0s 3ms/step - loss: 0.0774 - mae: 0.0774 - val_loss: 0.0836 - val_mae: 0.0836\n",
      "Epoch 68/200\n",
      "129/129 [==============================] - 0s 3ms/step - loss: 0.0592 - mae: 0.0592 - val_loss: 0.0593 - val_mae: 0.0593\n",
      "Epoch 69/200\n",
      "129/129 [==============================] - 0s 3ms/step - loss: 0.0790 - mae: 0.0790 - val_loss: 0.0458 - val_mae: 0.0458\n",
      "Epoch 70/200\n",
      "129/129 [==============================] - 0s 3ms/step - loss: 0.0537 - mae: 0.0537 - val_loss: 0.1031 - val_mae: 0.1031\n",
      "Epoch 71/200\n",
      "129/129 [==============================] - 0s 3ms/step - loss: 0.0572 - mae: 0.0572 - val_loss: 0.0372 - val_mae: 0.0372\n",
      "Epoch 72/200\n",
      "129/129 [==============================] - 0s 3ms/step - loss: 0.0671 - mae: 0.0671 - val_loss: 0.0353 - val_mae: 0.0353\n",
      "Epoch 73/200\n",
      "129/129 [==============================] - 0s 3ms/step - loss: 0.0605 - mae: 0.0605 - val_loss: 0.0906 - val_mae: 0.0906\n",
      "Epoch 74/200\n",
      "129/129 [==============================] - 0s 3ms/step - loss: 0.0762 - mae: 0.0762 - val_loss: 0.0429 - val_mae: 0.0429\n",
      "Epoch 75/200\n",
      "129/129 [==============================] - 0s 4ms/step - loss: 0.0505 - mae: 0.0505 - val_loss: 0.0368 - val_mae: 0.0368\n",
      "Epoch 76/200\n",
      "129/129 [==============================] - 0s 4ms/step - loss: 0.0537 - mae: 0.0537 - val_loss: 0.1034 - val_mae: 0.1034\n",
      "Epoch 77/200\n",
      "129/129 [==============================] - 0s 4ms/step - loss: 0.0494 - mae: 0.0494 - val_loss: 0.0357 - val_mae: 0.0357\n",
      "Epoch 78/200\n",
      "129/129 [==============================] - 0s 3ms/step - loss: 0.0679 - mae: 0.0679 - val_loss: 0.0446 - val_mae: 0.0446\n",
      "Epoch 79/200\n",
      "129/129 [==============================] - 0s 4ms/step - loss: 0.0589 - mae: 0.0589 - val_loss: 0.1664 - val_mae: 0.1664\n",
      "Epoch 80/200\n",
      "129/129 [==============================] - 0s 3ms/step - loss: 0.0539 - mae: 0.0539 - val_loss: 0.0700 - val_mae: 0.0700\n",
      "Epoch 81/200\n",
      "129/129 [==============================] - 0s 3ms/step - loss: 0.0548 - mae: 0.0548 - val_loss: 0.0424 - val_mae: 0.0424\n",
      "Epoch 82/200\n",
      "129/129 [==============================] - 0s 3ms/step - loss: 0.0430 - mae: 0.0430 - val_loss: 0.0340 - val_mae: 0.0340\n",
      "Epoch 83/200\n",
      "129/129 [==============================] - 0s 3ms/step - loss: 0.0710 - mae: 0.0710 - val_loss: 0.0559 - val_mae: 0.0559\n",
      "Epoch 84/200\n",
      "129/129 [==============================] - 0s 4ms/step - loss: 0.0577 - mae: 0.0577 - val_loss: 0.0420 - val_mae: 0.0420\n",
      "Epoch 85/200\n",
      "129/129 [==============================] - 0s 3ms/step - loss: 0.0517 - mae: 0.0517 - val_loss: 0.0568 - val_mae: 0.0568\n",
      "Epoch 86/200\n",
      "129/129 [==============================] - 0s 3ms/step - loss: 0.0484 - mae: 0.0484 - val_loss: 0.0706 - val_mae: 0.0706\n",
      "Epoch 87/200\n",
      "129/129 [==============================] - 0s 3ms/step - loss: 0.0510 - mae: 0.0510 - val_loss: 0.0387 - val_mae: 0.0387\n",
      "Epoch 88/200\n",
      "129/129 [==============================] - 0s 4ms/step - loss: 0.0471 - mae: 0.0471 - val_loss: 0.0414 - val_mae: 0.0414\n",
      "Epoch 89/200\n",
      "129/129 [==============================] - 0s 3ms/step - loss: 0.0479 - mae: 0.0479 - val_loss: 0.0449 - val_mae: 0.0449\n",
      "Epoch 90/200\n",
      "129/129 [==============================] - 0s 3ms/step - loss: 0.0591 - mae: 0.0591 - val_loss: 0.0348 - val_mae: 0.0348\n",
      "Epoch 91/200\n",
      "129/129 [==============================] - 0s 3ms/step - loss: 0.0442 - mae: 0.0442 - val_loss: 0.0420 - val_mae: 0.0420\n",
      "Epoch 92/200\n",
      "129/129 [==============================] - 0s 3ms/step - loss: 0.0469 - mae: 0.0469 - val_loss: 0.0719 - val_mae: 0.0719\n",
      "Epoch 93/200\n",
      "129/129 [==============================] - 0s 3ms/step - loss: 0.0520 - mae: 0.0520 - val_loss: 0.0411 - val_mae: 0.0411\n",
      "Epoch 94/200\n",
      "129/129 [==============================] - 0s 3ms/step - loss: 0.0655 - mae: 0.0655 - val_loss: 0.0392 - val_mae: 0.0392\n",
      "Epoch 95/200\n",
      "129/129 [==============================] - 0s 3ms/step - loss: 0.0457 - mae: 0.0457 - val_loss: 0.0843 - val_mae: 0.0843\n",
      "Epoch 96/200\n",
      "129/129 [==============================] - 0s 3ms/step - loss: 0.0492 - mae: 0.0492 - val_loss: 0.0700 - val_mae: 0.0700\n",
      "Epoch 97/200\n",
      "129/129 [==============================] - 0s 3ms/step - loss: 0.0494 - mae: 0.0494 - val_loss: 0.0667 - val_mae: 0.0667\n",
      "Epoch 98/200\n",
      "129/129 [==============================] - 0s 4ms/step - loss: 0.0470 - mae: 0.0470 - val_loss: 0.0370 - val_mae: 0.0370\n",
      "Epoch 99/200\n",
      "129/129 [==============================] - 0s 4ms/step - loss: 0.0464 - mae: 0.0464 - val_loss: 0.0931 - val_mae: 0.0931\n",
      "Epoch 100/200\n",
      "129/129 [==============================] - 0s 3ms/step - loss: 0.0493 - mae: 0.0493 - val_loss: 0.0380 - val_mae: 0.0380\n",
      "Epoch 101/200\n",
      "129/129 [==============================] - 0s 3ms/step - loss: 0.0503 - mae: 0.0503 - val_loss: 0.0675 - val_mae: 0.0675\n",
      "Epoch 102/200\n",
      "129/129 [==============================] - 0s 3ms/step - loss: 0.0452 - mae: 0.0452 - val_loss: 0.0363 - val_mae: 0.0363\n",
      "Epoch 103/200\n",
      "129/129 [==============================] - 0s 3ms/step - loss: 0.0461 - mae: 0.0461 - val_loss: 0.0453 - val_mae: 0.0453\n",
      "Epoch 104/200\n",
      "129/129 [==============================] - 0s 4ms/step - loss: 0.0485 - mae: 0.0485 - val_loss: 0.0329 - val_mae: 0.0329\n",
      "Epoch 105/200\n",
      "129/129 [==============================] - 0s 3ms/step - loss: 0.0430 - mae: 0.0430 - val_loss: 0.0530 - val_mae: 0.0530\n",
      "Epoch 106/200\n",
      "129/129 [==============================] - 0s 3ms/step - loss: 0.0475 - mae: 0.0475 - val_loss: 0.0745 - val_mae: 0.0745\n",
      "Epoch 107/200\n",
      "129/129 [==============================] - 0s 3ms/step - loss: 0.0431 - mae: 0.0431 - val_loss: 0.0344 - val_mae: 0.0344\n",
      "Epoch 108/200\n",
      "129/129 [==============================] - 0s 3ms/step - loss: 0.0432 - mae: 0.0432 - val_loss: 0.0488 - val_mae: 0.0488\n",
      "Epoch 109/200\n",
      "129/129 [==============================] - 0s 4ms/step - loss: 0.0516 - mae: 0.0516 - val_loss: 0.0508 - val_mae: 0.0508\n",
      "Epoch 110/200\n",
      "129/129 [==============================] - 0s 3ms/step - loss: 0.0484 - mae: 0.0484 - val_loss: 0.0655 - val_mae: 0.0655\n",
      "Epoch 111/200\n",
      "129/129 [==============================] - 0s 4ms/step - loss: 0.0389 - mae: 0.0389 - val_loss: 0.0655 - val_mae: 0.0655\n",
      "Epoch 112/200\n",
      "129/129 [==============================] - 0s 3ms/step - loss: 0.0419 - mae: 0.0419 - val_loss: 0.0418 - val_mae: 0.0418\n",
      "Epoch 113/200\n",
      "129/129 [==============================] - 0s 3ms/step - loss: 0.0371 - mae: 0.0371 - val_loss: 0.0338 - val_mae: 0.0338\n",
      "Epoch 114/200\n",
      "129/129 [==============================] - 0s 3ms/step - loss: 0.0420 - mae: 0.0420 - val_loss: 0.0346 - val_mae: 0.0346\n",
      "Epoch 115/200\n",
      "129/129 [==============================] - 0s 3ms/step - loss: 0.0430 - mae: 0.0430 - val_loss: 0.0334 - val_mae: 0.0334\n",
      "Epoch 116/200\n",
      "129/129 [==============================] - 0s 3ms/step - loss: 0.0430 - mae: 0.0430 - val_loss: 0.0521 - val_mae: 0.0521\n",
      "Epoch 117/200\n",
      "129/129 [==============================] - 0s 3ms/step - loss: 0.0415 - mae: 0.0415 - val_loss: 0.0332 - val_mae: 0.0332\n",
      "Epoch 118/200\n",
      "129/129 [==============================] - 0s 3ms/step - loss: 0.0417 - mae: 0.0417 - val_loss: 0.0703 - val_mae: 0.0703\n",
      "Epoch 119/200\n",
      "129/129 [==============================] - 0s 3ms/step - loss: 0.0426 - mae: 0.0426 - val_loss: 0.0345 - val_mae: 0.0345\n",
      "Epoch 120/200\n",
      "129/129 [==============================] - 0s 3ms/step - loss: 0.0550 - mae: 0.0550 - val_loss: 0.0387 - val_mae: 0.0387\n",
      "Epoch 121/200\n",
      "129/129 [==============================] - 0s 4ms/step - loss: 0.0388 - mae: 0.0388 - val_loss: 0.0408 - val_mae: 0.0408\n",
      "Epoch 122/200\n",
      "129/129 [==============================] - 0s 3ms/step - loss: 0.0410 - mae: 0.0410 - val_loss: 0.0519 - val_mae: 0.0519\n",
      "Epoch 123/200\n",
      "129/129 [==============================] - 0s 3ms/step - loss: 0.0411 - mae: 0.0411 - val_loss: 0.0481 - val_mae: 0.0481\n",
      "Epoch 124/200\n",
      "129/129 [==============================] - 1s 4ms/step - loss: 0.0485 - mae: 0.0485 - val_loss: 0.0509 - val_mae: 0.0509\n",
      "Epoch 125/200\n",
      "129/129 [==============================] - 0s 4ms/step - loss: 0.0441 - mae: 0.0441 - val_loss: 0.0366 - val_mae: 0.0366\n",
      "Epoch 126/200\n",
      "129/129 [==============================] - 0s 3ms/step - loss: 0.0401 - mae: 0.0401 - val_loss: 0.0355 - val_mae: 0.0355\n",
      "Epoch 127/200\n",
      "129/129 [==============================] - 0s 3ms/step - loss: 0.0406 - mae: 0.0406 - val_loss: 0.0478 - val_mae: 0.0478\n",
      "Epoch 128/200\n",
      "129/129 [==============================] - 0s 4ms/step - loss: 0.0457 - mae: 0.0457 - val_loss: 0.0334 - val_mae: 0.0334\n",
      "Epoch 129/200\n",
      "129/129 [==============================] - 0s 3ms/step - loss: 0.0390 - mae: 0.0390 - val_loss: 0.0376 - val_mae: 0.0376\n",
      "Epoch 130/200\n",
      "129/129 [==============================] - 0s 3ms/step - loss: 0.0373 - mae: 0.0373 - val_loss: 0.0420 - val_mae: 0.0420\n",
      "Epoch 131/200\n",
      "129/129 [==============================] - 0s 3ms/step - loss: 0.0392 - mae: 0.0392 - val_loss: 0.0435 - val_mae: 0.0435\n",
      "Epoch 132/200\n",
      "129/129 [==============================] - 0s 4ms/step - loss: 0.0408 - mae: 0.0408 - val_loss: 0.0465 - val_mae: 0.0465\n",
      "Epoch 133/200\n",
      "129/129 [==============================] - 0s 3ms/step - loss: 0.0391 - mae: 0.0391 - val_loss: 0.0356 - val_mae: 0.0356\n",
      "Epoch 134/200\n",
      "129/129 [==============================] - 0s 3ms/step - loss: 0.0364 - mae: 0.0364 - val_loss: 0.0424 - val_mae: 0.0424\n",
      "Epoch 135/200\n",
      "129/129 [==============================] - 0s 3ms/step - loss: 0.0389 - mae: 0.0389 - val_loss: 0.0518 - val_mae: 0.0518\n",
      "Epoch 136/200\n",
      "129/129 [==============================] - 0s 3ms/step - loss: 0.0380 - mae: 0.0380 - val_loss: 0.0459 - val_mae: 0.0459\n",
      "Epoch 137/200\n",
      "129/129 [==============================] - 0s 4ms/step - loss: 0.0434 - mae: 0.0434 - val_loss: 0.0506 - val_mae: 0.0506\n",
      "Epoch 138/200\n",
      "129/129 [==============================] - 0s 4ms/step - loss: 0.0384 - mae: 0.0384 - val_loss: 0.0425 - val_mae: 0.0425\n",
      "Epoch 139/200\n",
      "129/129 [==============================] - 0s 3ms/step - loss: 0.0371 - mae: 0.0371 - val_loss: 0.0451 - val_mae: 0.0451\n",
      "Epoch 140/200\n",
      "129/129 [==============================] - 0s 3ms/step - loss: 0.0434 - mae: 0.0434 - val_loss: 0.0357 - val_mae: 0.0357\n",
      "Epoch 141/200\n",
      "129/129 [==============================] - 0s 3ms/step - loss: 0.0357 - mae: 0.0357 - val_loss: 0.0387 - val_mae: 0.0387\n",
      "Epoch 142/200\n",
      "129/129 [==============================] - 0s 3ms/step - loss: 0.0374 - mae: 0.0374 - val_loss: 0.0330 - val_mae: 0.0330\n",
      "Epoch 143/200\n",
      "129/129 [==============================] - 0s 4ms/step - loss: 0.0397 - mae: 0.0397 - val_loss: 0.0345 - val_mae: 0.0345\n",
      "Epoch 144/200\n",
      "129/129 [==============================] - 0s 4ms/step - loss: 0.0367 - mae: 0.0367 - val_loss: 0.0327 - val_mae: 0.0327\n",
      "Epoch 145/200\n",
      "129/129 [==============================] - 0s 3ms/step - loss: 0.0395 - mae: 0.0395 - val_loss: 0.0377 - val_mae: 0.0377\n",
      "Epoch 146/200\n",
      "129/129 [==============================] - 0s 3ms/step - loss: 0.0405 - mae: 0.0405 - val_loss: 0.0355 - val_mae: 0.0355\n",
      "Epoch 147/200\n",
      "129/129 [==============================] - 0s 3ms/step - loss: 0.0405 - mae: 0.0405 - val_loss: 0.0352 - val_mae: 0.0352\n",
      "Epoch 148/200\n",
      "129/129 [==============================] - 0s 3ms/step - loss: 0.0383 - mae: 0.0383 - val_loss: 0.0358 - val_mae: 0.0358\n",
      "Epoch 149/200\n",
      "129/129 [==============================] - 0s 3ms/step - loss: 0.0380 - mae: 0.0380 - val_loss: 0.0330 - val_mae: 0.0330\n",
      "Epoch 150/200\n",
      "129/129 [==============================] - 0s 3ms/step - loss: 0.0352 - mae: 0.0352 - val_loss: 0.0327 - val_mae: 0.0327\n",
      "Epoch 151/200\n",
      "129/129 [==============================] - 0s 3ms/step - loss: 0.0402 - mae: 0.0402 - val_loss: 0.0673 - val_mae: 0.0673\n",
      "Epoch 152/200\n",
      "129/129 [==============================] - 0s 3ms/step - loss: 0.0378 - mae: 0.0378 - val_loss: 0.0344 - val_mae: 0.0344\n",
      "Epoch 153/200\n",
      "129/129 [==============================] - 0s 3ms/step - loss: 0.0392 - mae: 0.0392 - val_loss: 0.0327 - val_mae: 0.0327\n",
      "Epoch 154/200\n",
      "129/129 [==============================] - 0s 4ms/step - loss: 0.0373 - mae: 0.0373 - val_loss: 0.0328 - val_mae: 0.0328\n",
      "Epoch 155/200\n",
      "129/129 [==============================] - 0s 4ms/step - loss: 0.0353 - mae: 0.0353 - val_loss: 0.0333 - val_mae: 0.0333\n",
      "Epoch 156/200\n",
      "129/129 [==============================] - 0s 3ms/step - loss: 0.0341 - mae: 0.0341 - val_loss: 0.0332 - val_mae: 0.0332\n",
      "Epoch 157/200\n",
      "129/129 [==============================] - 0s 4ms/step - loss: 0.0367 - mae: 0.0367 - val_loss: 0.0439 - val_mae: 0.0439\n",
      "Epoch 158/200\n",
      "129/129 [==============================] - 0s 4ms/step - loss: 0.0367 - mae: 0.0367 - val_loss: 0.0360 - val_mae: 0.0360\n",
      "Epoch 159/200\n",
      "129/129 [==============================] - 0s 3ms/step - loss: 0.0359 - mae: 0.0359 - val_loss: 0.0369 - val_mae: 0.0369\n",
      "Epoch 160/200\n",
      "129/129 [==============================] - 0s 3ms/step - loss: 0.0395 - mae: 0.0395 - val_loss: 0.0530 - val_mae: 0.0530\n",
      "Epoch 161/200\n",
      "129/129 [==============================] - 0s 3ms/step - loss: 0.0352 - mae: 0.0352 - val_loss: 0.0440 - val_mae: 0.0440\n",
      "Epoch 162/200\n",
      "129/129 [==============================] - 0s 4ms/step - loss: 0.0365 - mae: 0.0365 - val_loss: 0.0342 - val_mae: 0.0342\n",
      "Epoch 163/200\n",
      "129/129 [==============================] - 0s 3ms/step - loss: 0.0378 - mae: 0.0378 - val_loss: 0.0417 - val_mae: 0.0417\n",
      "Epoch 164/200\n",
      "129/129 [==============================] - 0s 3ms/step - loss: 0.0358 - mae: 0.0358 - val_loss: 0.0334 - val_mae: 0.0334\n",
      "Epoch 165/200\n",
      "129/129 [==============================] - 0s 4ms/step - loss: 0.0354 - mae: 0.0354 - val_loss: 0.0351 - val_mae: 0.0351\n",
      "Epoch 166/200\n",
      "129/129 [==============================] - 0s 4ms/step - loss: 0.0366 - mae: 0.0366 - val_loss: 0.0398 - val_mae: 0.0398\n",
      "Epoch 167/200\n",
      "129/129 [==============================] - 0s 3ms/step - loss: 0.0363 - mae: 0.0363 - val_loss: 0.0342 - val_mae: 0.0342\n",
      "Epoch 168/200\n",
      "129/129 [==============================] - 0s 3ms/step - loss: 0.0357 - mae: 0.0357 - val_loss: 0.0336 - val_mae: 0.0336\n",
      "Epoch 169/200\n",
      "129/129 [==============================] - 0s 3ms/step - loss: 0.0346 - mae: 0.0346 - val_loss: 0.0334 - val_mae: 0.0334\n",
      "Epoch 170/200\n",
      "129/129 [==============================] - 0s 3ms/step - loss: 0.0343 - mae: 0.0343 - val_loss: 0.0344 - val_mae: 0.0344\n",
      "Epoch 171/200\n",
      "129/129 [==============================] - 0s 3ms/step - loss: 0.0359 - mae: 0.0359 - val_loss: 0.0337 - val_mae: 0.0337\n",
      "Epoch 172/200\n",
      "129/129 [==============================] - 0s 4ms/step - loss: 0.0348 - mae: 0.0348 - val_loss: 0.0330 - val_mae: 0.0330\n",
      "Epoch 173/200\n",
      "129/129 [==============================] - 0s 3ms/step - loss: 0.0355 - mae: 0.0355 - val_loss: 0.0429 - val_mae: 0.0429\n",
      "Epoch 174/200\n",
      "129/129 [==============================] - 0s 3ms/step - loss: 0.0396 - mae: 0.0396 - val_loss: 0.0339 - val_mae: 0.0339\n",
      "Epoch 175/200\n",
      "129/129 [==============================] - 0s 3ms/step - loss: 0.0345 - mae: 0.0345 - val_loss: 0.0415 - val_mae: 0.0415\n",
      "Epoch 176/200\n",
      "129/129 [==============================] - 0s 4ms/step - loss: 0.0369 - mae: 0.0369 - val_loss: 0.0334 - val_mae: 0.0334\n",
      "Epoch 177/200\n",
      "129/129 [==============================] - 0s 4ms/step - loss: 0.0341 - mae: 0.0341 - val_loss: 0.0359 - val_mae: 0.0359\n",
      "Epoch 178/200\n",
      "129/129 [==============================] - 1s 4ms/step - loss: 0.0361 - mae: 0.0361 - val_loss: 0.0392 - val_mae: 0.0392\n",
      "Epoch 179/200\n",
      "129/129 [==============================] - 0s 3ms/step - loss: 0.0347 - mae: 0.0347 - val_loss: 0.0328 - val_mae: 0.0328\n",
      "Epoch 180/200\n",
      "129/129 [==============================] - 0s 4ms/step - loss: 0.0361 - mae: 0.0361 - val_loss: 0.0332 - val_mae: 0.0332\n",
      "Epoch 181/200\n",
      "129/129 [==============================] - 0s 3ms/step - loss: 0.0350 - mae: 0.0350 - val_loss: 0.0390 - val_mae: 0.0390\n",
      "Epoch 182/200\n",
      "129/129 [==============================] - 0s 4ms/step - loss: 0.0338 - mae: 0.0338 - val_loss: 0.0335 - val_mae: 0.0335\n",
      "Epoch 183/200\n",
      "129/129 [==============================] - 0s 3ms/step - loss: 0.0350 - mae: 0.0350 - val_loss: 0.0338 - val_mae: 0.0338\n",
      "Epoch 184/200\n",
      "129/129 [==============================] - 0s 3ms/step - loss: 0.0351 - mae: 0.0351 - val_loss: 0.0345 - val_mae: 0.0345\n",
      "Epoch 185/200\n",
      "129/129 [==============================] - 0s 3ms/step - loss: 0.0355 - mae: 0.0355 - val_loss: 0.0379 - val_mae: 0.0379\n",
      "Epoch 186/200\n",
      "129/129 [==============================] - 0s 3ms/step - loss: 0.0350 - mae: 0.0350 - val_loss: 0.0383 - val_mae: 0.0383\n",
      "Epoch 187/200\n",
      "129/129 [==============================] - 1s 4ms/step - loss: 0.0349 - mae: 0.0349 - val_loss: 0.0349 - val_mae: 0.0349\n",
      "Epoch 188/200\n",
      "129/129 [==============================] - 0s 4ms/step - loss: 0.0356 - mae: 0.0356 - val_loss: 0.0369 - val_mae: 0.0369\n",
      "Epoch 189/200\n",
      "129/129 [==============================] - 0s 3ms/step - loss: 0.0355 - mae: 0.0355 - val_loss: 0.0330 - val_mae: 0.0330\n",
      "Epoch 190/200\n",
      "129/129 [==============================] - 0s 3ms/step - loss: 0.0359 - mae: 0.0359 - val_loss: 0.0332 - val_mae: 0.0332\n",
      "Epoch 191/200\n",
      "129/129 [==============================] - 0s 3ms/step - loss: 0.0333 - mae: 0.0333 - val_loss: 0.0383 - val_mae: 0.0383\n",
      "Epoch 192/200\n",
      "129/129 [==============================] - 0s 3ms/step - loss: 0.0341 - mae: 0.0341 - val_loss: 0.0349 - val_mae: 0.0349\n",
      "Epoch 193/200\n",
      "129/129 [==============================] - 0s 4ms/step - loss: 0.0345 - mae: 0.0345 - val_loss: 0.0328 - val_mae: 0.0328\n",
      "Epoch 194/200\n",
      "129/129 [==============================] - 0s 3ms/step - loss: 0.0334 - mae: 0.0334 - val_loss: 0.0431 - val_mae: 0.0431\n",
      "Epoch 195/200\n",
      "129/129 [==============================] - 0s 4ms/step - loss: 0.0340 - mae: 0.0340 - val_loss: 0.0376 - val_mae: 0.0376\n",
      "Epoch 196/200\n",
      "129/129 [==============================] - 0s 3ms/step - loss: 0.0336 - mae: 0.0336 - val_loss: 0.0329 - val_mae: 0.0329\n",
      "Epoch 197/200\n",
      "129/129 [==============================] - 0s 3ms/step - loss: 0.0338 - mae: 0.0338 - val_loss: 0.0327 - val_mae: 0.0327\n",
      "Epoch 198/200\n",
      "129/129 [==============================] - 0s 4ms/step - loss: 0.0366 - mae: 0.0366 - val_loss: 0.0337 - val_mae: 0.0337\n",
      "Epoch 199/200\n",
      "129/129 [==============================] - 0s 4ms/step - loss: 0.0342 - mae: 0.0342 - val_loss: 0.0341 - val_mae: 0.0341\n",
      "Epoch 200/200\n",
      "129/129 [==============================] - 0s 4ms/step - loss: 0.0341 - mae: 0.0341 - val_loss: 0.0354 - val_mae: 0.0354\n"
     ]
    }
   ],
   "source": [
    "history = model_nn.fit(X_train,\n",
    "                   Y_train,\n",
    "                   epochs = 200,\n",
    "                   validation_split = 0.20)"
   ]
  },
  {
   "cell_type": "markdown",
   "metadata": {},
   "source": [
    "### Selección final"
   ]
  },
  {
   "cell_type": "markdown",
   "metadata": {},
   "source": [
    "Finalmente por su buen resultado y su bajo costo computacional seleccionamos el modelo de \"Polynomial linear regression\". El mismo se desempeña mejor que el modelo de regresión lineal al mantener mejor la tendecia de la curva NPHI original y reparar las zonas con errores, esto se puede observar gráficamente."
   ]
  },
  {
   "cell_type": "code",
   "execution_count": 51,
   "metadata": {},
   "outputs": [],
   "source": [
    "Well_1[[\"DEPTH\",\"CAL\",\"DT\",\"GR\", \"RLLD\", \"RT\", \"BS\"]] = \\\n",
    "    Well_1[[\"DEPTH\",\"CAL\",\"DT\",\"GR\", \"RLLD\", \"RT\", \"BS\"]].apply(functions.col_to_float, axis=1)"
   ]
  },
  {
   "cell_type": "code",
   "execution_count": 52,
   "metadata": {},
   "outputs": [],
   "source": [
    "Well_1[\"DEPTH\"] = Well_1[\"DEPTH\"]/10000\n",
    "Well_1[\"CAL\"] = Well_1[\"CAL\"]/10000\n",
    "Well_1[\"DT\"] = Well_1[\"DT\"]/10000\n",
    "Well_1[\"GR\"] = Well_1[\"GR\"]/10000\n",
    "Well_1[\"RHOB\"] = Well_1[\"RHOB\"]/10\n",
    "Well_1[\"RLLD\"] = Well_1[\"RLLD\"]/10000\n",
    "Well_1[\"RT\"] = Well_1[\"RT\"]/10000\n",
    "Well_1[\"BS\"] = Well_1[\"BS\"]/10000"
   ]
  },
  {
   "cell_type": "code",
   "execution_count": 53,
   "metadata": {},
   "outputs": [],
   "source": [
    "Well_1[\"BS\"] = np.where(Well_1[\"BS\"] > 15, 9.25, Well_1[\"BS\"])"
   ]
  },
  {
   "cell_type": "code",
   "execution_count": 54,
   "metadata": {},
   "outputs": [],
   "source": [
    "Well_1[\"positive_flag\"] = Well_1[Well_1[\"NPHI\"] > 0.30][\"NPHI\"]\n",
    "Well_1[\"negative_flag\"] = Well_1[Well_1[\"NPHI\"] < 0][\"NPHI\"]"
   ]
  },
  {
   "cell_type": "code",
   "execution_count": 55,
   "metadata": {},
   "outputs": [],
   "source": [
    "Well_1[\"BS\"] = np.where(Well_1[\"BS\"] > 15, 9.25, Well_1[\"BS\"])"
   ]
  },
  {
   "cell_type": "code",
   "execution_count": 56,
   "metadata": {},
   "outputs": [],
   "source": [
    "Well_1[\"RLLD_log\"] = np.log(Well_1[\"RLLD\"])"
   ]
  },
  {
   "cell_type": "code",
   "execution_count": 57,
   "metadata": {},
   "outputs": [],
   "source": [
    "Well_1.drop([\"positive_flag\", \"negative_flag\"], axis=1, inplace=True) #Eliminamos los flags para luego eliminar los inf de RLLD_log\n",
    "Well_1.replace([np.inf, -np.inf], np.nan, inplace=True)#Eliminamos valores infinitos, no aceptados el modelo\n",
    "Well_1.dropna(inplace=True)#Eliminamos NaNs que pudieron surgir en previas transformaciones"
   ]
  },
  {
   "cell_type": "code",
   "execution_count": 58,
   "metadata": {},
   "outputs": [],
   "source": [
    "#Train test\n",
    "\n",
    "X_w1 = Well_1[[\"DT\",\"GR\",\"RHOB\", \"RLLD_log\"]]\n",
    "Y_w1 = Well_1[\"NPHI\"]"
   ]
  },
  {
   "cell_type": "code",
   "execution_count": 59,
   "metadata": {},
   "outputs": [],
   "source": [
    "Well_1[\"NPHI_linear_predict\"] = model_pipeline_lr.predict(X_w1) #Prediccion de NPHI lr Well_1"
   ]
  },
  {
   "cell_type": "code",
   "execution_count": 60,
   "metadata": {},
   "outputs": [],
   "source": [
    "Well_1[\"NPHI_poly_predict\"] = model_pipeline_plr.predict(X_w1) #Prediccion de NPHI plr Well_1"
   ]
  },
  {
   "cell_type": "code",
   "execution_count": 64,
   "metadata": {},
   "outputs": [
    {
     "data": {
      "image/png": "[encoded data removed]",
      "text/plain": [
       "<Figure size 1080x720 with 6 Axes>"
      ]
     },
     "metadata": {},
     "output_type": "display_data"
    }
   ],
   "source": [
    "plt.style.use(\"seaborn\")\n",
    "fig, axes = plt.subplots(figsize= (15,10))\n",
    "\n",
    "ax0 = plt.subplot2grid((1,7), (0,0), rowspan=1, colspan=1)\n",
    "ax1 = plt.subplot2grid((1,7), (0,1), rowspan=1, colspan=1)\n",
    "ax3 = plt.subplot2grid((1,7), (0,2), rowspan=1, colspan=1)\n",
    "ax9 = plt.subplot2grid((1,7), (0,3), rowspan=1, colspan=1)\n",
    "ax10 = plt.subplot2grid((1,7), (0,4), rowspan=1, colspan=1)\n",
    "ax4 = ax0.twiny()\n",
    "\n",
    "\n",
    "ax0.plot(\"CAL\", \"DEPTH\", data= Well_1, color= \"gray\")\n",
    "ax0.set_xlabel(\"CAL\")\n",
    "ax0.set_xlim(6,16)\n",
    "ax0.set_ylim(8400,2854)\n",
    "ax0.grid(10)\n",
    "\n",
    "ax0.fill_betweenx(Well_1[\"DEPTH\"], Well_1[\"BS\"], Well_1[\"CAL\"],where=Well_1[\"CAL\"]>=Well_1[\"BS\"],facecolor='cyan')\n",
    "\n",
    "ax1.plot(\"GR\", \"DEPTH\", data= Well_1, color= \"green\")\n",
    "ax1.set_xlabel(\"GR\")\n",
    "ax1.set_xlim(0,300)\n",
    "ax1.set_ylim(8400,2854)\n",
    "ax1.grid(10)\n",
    "\n",
    "left_value = 0\n",
    "right_value = 300\n",
    "span = abs(left_value-right_value)\n",
    "\n",
    "cmap=plt.get_cmap('hot_r')\n",
    "\n",
    "color_index = np.arange(left_value, right_value, span/100)\n",
    "for index in sorted(color_index):\n",
    "    index_value = (index - left_value)/span\n",
    "    color = cmap(index_value)\n",
    "    ax1.fill_betweenx(Well_1['DEPTH'], left_value, Well_1['GR'], where=Well_1['GR']>=index, color=color)\n",
    "\n",
    "ax3.plot(\"NPHI\", \"DEPTH\", data= Well_1, color= \"blue\")\n",
    "ax3.set_xlabel(\"NPHI\")\n",
    "ax3.set_xlim(0.45,-0.15)\n",
    "ax3.set_ylim(8400,2854)\n",
    "ax3.grid(10)\n",
    "\n",
    "ax4.plot(\"BS\", \"DEPTH\", data= Well_1, color= \"black\")\n",
    "ax4.set_xlim(6,16)\n",
    "ax4.set_ylim(8400,2854)\n",
    "ax4.grid(10)\n",
    "\n",
    "ax9.plot(\"NPHI_poly_predict\", \"DEPTH\", data= Well_1, color= \"black\")\n",
    "ax9.set_xlabel(\"NPHI_poly_predict\")\n",
    "ax9.set_xlim(0.45,-0.15)\n",
    "ax9.set_ylim(8400,2854)\n",
    "ax9.grid(10)\n",
    "\n",
    "ax10.plot(\"NPHI_linear_predict\", \"DEPTH\", data= Well_1, color= \"black\")\n",
    "ax10.set_xlabel(\"NPHI_linear_predict\")\n",
    "ax10.set_xlim(0.45,-0.15)\n",
    "ax10.set_ylim(8400,2854)\n",
    "ax10.grid(10)\n",
    "\n",
    "ax0.xaxis.set_label_position(\"top\")\n",
    "ax1.xaxis.set_label_position(\"top\")\n",
    "ax3.xaxis.set_label_position(\"top\")\n",
    "ax9.xaxis.set_label_position(\"top\")\n",
    "ax10.xaxis.set_label_position(\"top\")\n",
    "\n",
    "\n",
    "plt.setp(ax1.get_yticklabels(), visible = False)\n",
    "plt.setp(ax3.get_yticklabels(), visible = False)\n",
    "plt.setp(ax4.get_xticklabels(), visible = False)\n",
    "plt.setp(ax9.get_yticklabels(), visible = False)\n",
    "plt.setp(ax10.get_yticklabels(), visible = False)\n",
    "fig.subplots_adjust(wspace = 0.07)\n",
    "# plt.savefig(\"w1_comparative.png\")"
   ]
  },
  {
   "cell_type": "markdown",
   "metadata": {},
   "source": [
    "El NPHI linear mantiene tendencias mayores a 0.30 en la zona de casing, el NPHI polinómico nos arroja algo de información."
   ]
  }
 ],
 "metadata": {
  "interpreter": {
   "hash": "0140da9284d3a0331c5dc8e3814dff517184f782fca30f79252c37873bf197cf"
  },
  "kernelspec": {
   "display_name": "Python 3.7.4 64-bit",
   "language": "python",
   "name": "python3"
  },
  "language_info": {
   "codemirror_mode": {
    "name": "ipython",
    "version": 3
   },
   "file_extension": ".py",
   "mimetype": "text/x-python",
   "name": "python",
   "nbconvert_exporter": "python",
   "pygments_lexer": "ipython3",
   "version": "3.7.4"
  },
  "orig_nbformat": 4
 },
 "nbformat": 4,
 "nbformat_minor": 2
}
