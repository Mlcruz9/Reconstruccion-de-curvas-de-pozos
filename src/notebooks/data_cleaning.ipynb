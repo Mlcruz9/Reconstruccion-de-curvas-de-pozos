{
 "cells": [
  {
   "cell_type": "markdown",
   "metadata": {},
   "source": [
    "# Limpieza de datos"
   ]
  },
  {
   "cell_type": "markdown",
   "metadata": {},
   "source": [
    "### Importando datos"
   ]
  },
  {
   "cell_type": "code",
   "execution_count": 4,
   "metadata": {},
   "outputs": [],
   "source": [
    "import pandas as pd\n",
    "import numpy as np\n",
    "import functions"
   ]
  },
  {
   "cell_type": "code",
   "execution_count": 2,
   "metadata": {},
   "outputs": [],
   "source": [
    "Well_1 = pd.read_csv(\"../data/raw/Well_1_mincols.csv\", sep=\";\")\n",
    "Well_3 = pd.read_csv(\"../data/raw/Well_3_mincols.csv\", sep=\";\")"
   ]
  },
  {
   "cell_type": "markdown",
   "metadata": {},
   "source": [
    "### Trabajando con Well_1 y Well_3"
   ]
  },
  {
   "cell_type": "markdown",
   "metadata": {},
   "source": [
    "Procedemos a hacer una primera limpieza de la data, esta tiene como objetivo eliminar los valores introducidos por la transformación de archivos desde el formato .las al formato .csv"
   ]
  },
  {
   "cell_type": "code",
   "execution_count": 5,
   "metadata": {},
   "outputs": [],
   "source": [
    "#Transformación de las columnas de tipo \"object\" a \"float\"\n",
    "\n",
    "#Well_1\n",
    "Well_1[[\"DEPTH\",\"CAL\",\"DT\",\"GR\", \"RLLD\", \"RT\", \"BS\"]] = \\\n",
    "    Well_1[[\"DEPTH\",\"CAL\",\"DT\",\"GR\", \"RLLD\", \"RT\", \"BS\"]].apply(functions.col_to_float, axis=1)\n",
    "\n",
    "#Well_3\n",
    "Well_3[[\"DEPTH\",\"CAL\",\"DT\",\"GR\",\"RHOB\",\"RLLD\",\"RT\", \"BS\"]] = \\\n",
    "    Well_3[[\"DEPTH\",\"CAL\",\"DT\",\"GR\",\"RHOB\",\"RLLD\", \"RT\", \"BS\"]].apply(functions.col_to_float, axis=1)    "
   ]
  },
  {
   "cell_type": "code",
   "execution_count": 6,
   "metadata": {},
   "outputs": [],
   "source": [
    "#Llevamos los valores de registros a su valor real, distorsionados por la conversión de .las a .csv\n",
    "\n",
    "#Well_1\n",
    "Well_1[\"DEPTH\"] = Well_1[\"DEPTH\"]/10000\n",
    "Well_1[\"CAL\"] = Well_1[\"CAL\"]/10000\n",
    "Well_1[\"DT\"] = Well_1[\"DT\"]/10000\n",
    "Well_1[\"GR\"] = Well_1[\"GR\"]/10000\n",
    "Well_1[\"RHOB\"] = Well_1[\"RHOB\"]/10\n",
    "Well_1[\"RLLD\"] = Well_1[\"RLLD\"]/10000\n",
    "Well_1[\"RT\"] = Well_1[\"RT\"]/10000\n",
    "Well_1[\"BS\"] = Well_1[\"BS\"]/10000\n",
    "\n",
    "#Well_3\n",
    "Well_3[\"DEPTH\"] = Well_3[\"DEPTH\"]/10000\n",
    "Well_3[\"CAL\"] = Well_3[\"CAL\"]/10000\n",
    "Well_3[\"DT\"] = Well_3[\"DT\"]/10000\n",
    "Well_3[\"GR\"] = Well_3[\"GR\"]/10000\n",
    "Well_3[\"RHOB\"] = Well_3[\"RHOB\"]/10000\n",
    "Well_3[\"RLLD\"] = Well_3[\"RLLD\"]/10000\n",
    "Well_3[\"RT\"] = Well_3[\"RT\"]/10000\n",
    "Well_3[\"BS\"] = Well_3[\"BS\"]/10000"
   ]
  },
  {
   "cell_type": "markdown",
   "metadata": {},
   "source": [
    "Posteriormente arreglamos registros con valores nulos y defectuosos"
   ]
  },
  {
   "cell_type": "code",
   "execution_count": 30,
   "metadata": {},
   "outputs": [],
   "source": [
    "#Well_1\n",
    "Well_1[\"BS\"] = np.where(Well_1[\"BS\"] > 15, 9.25, Well_1[\"BS\"])\n",
    "\n",
    "#Well_3\n",
    "Well_3[\"CAL\"] = np.where(Well_3[\"CAL\"] > 50, Well_3[\"CAL\"]/10, Well_3[\"CAL\"])\n",
    "Well_3[\"NPHI\"] = functions.nan_as_nan(Well_3[\"NPHI\"], 990) #Pasamos los valores nulos representados como números a \"None\"\n",
    "Well_3[\"RHOB\"] = functions.nan_as_nan(Well_3[\"RHOB\"], 999)  #para trabajarlos de manera más cómoda\n",
    "Well_3[\"DT\"] = functions.nan_as_nan(Well_3[\"DT\"], 999)\n",
    "Well_3[\"RT\"] = functions.nan_as_nan(Well_3[\"RT\"], 999)\n",
    "Well_3[\"BS\"] = np.where(Well_3[\"BS\"] > 10, 9.875, Well_3[\"BS\"])\n",
    "\n",
    "#Transformamos nuevamente a float los valores de Well_3, afectados por la transformación anterior de float a NaN\n",
    "\n",
    "Well_3[\"NPHI\"] = Well_3[\"NPHI\"].astype(float)\n",
    "Well_3[\"DT\"] = Well_3[\"DT\"].astype(float)\n",
    "Well_3[\"RHOB\"] = Well_3[\"RHOB\"].astype(float)\n",
    "Well_3[\"RT\"] = Well_3[\"RT\"].astype(float)"
   ]
  },
  {
   "cell_type": "code",
   "execution_count": 38,
   "metadata": {},
   "outputs": [],
   "source": [
    "#Well_1.to_csv(\"../data/processed/cleandata/Well_1_clean.csv\")\n",
    "#Well_3.to_csv(\"../data/processed/cleandata/Well_3_clean.csv\")"
   ]
  }
 ],
 "metadata": {
  "interpreter": {
   "hash": "0140da9284d3a0331c5dc8e3814dff517184f782fca30f79252c37873bf197cf"
  },
  "kernelspec": {
   "display_name": "Python 3.7.4 64-bit",
   "language": "python",
   "name": "python3"
  },
  "language_info": {
   "codemirror_mode": {
    "name": "ipython",
    "version": 3
   },
   "file_extension": ".py",
   "mimetype": "text/x-python",
   "name": "python",
   "nbconvert_exporter": "python",
   "pygments_lexer": "ipython3",
   "version": "3.7.4"
  },
  "orig_nbformat": 4
 },
 "nbformat": 4,
 "nbformat_minor": 2
}
